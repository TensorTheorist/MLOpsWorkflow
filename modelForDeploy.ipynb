{
 "cells": [
  {
   "cell_type": "code",
   "execution_count": 9,
   "id": "b6926376-1744-4472-b9d0-8f619de94a50",
   "metadata": {},
   "outputs": [],
   "source": [
    "import numpy as np\n",
    "import pandas as pd\n",
    "\n",
    "from sklearn.model_selection import train_test_split\n",
    "from sklearn.preprocessing import StandardScaler\n",
    "from sklearn.neighbors import KNeighborsClassifier\n",
    "from sklearn.metrics import confusion_matrix\n",
    "\n",
    "import matplotlib.pyplot as plt"
   ]
  },
  {
   "cell_type": "code",
   "execution_count": 2,
   "id": "a70873a9-b3fc-4270-95ce-52df9e2fdab4",
   "metadata": {},
   "outputs": [],
   "source": [
    "training_data = pd.read_csv('StorePurchaseData.csv')\n",
    "\n",
    "X = training_data.iloc[:, :-1].values\n",
    "y = training_data.iloc[:, -1].values\n",
    "\n",
    "X_train, X_test, y_train, y_test = train_test_split(X, y, test_size=0.2, shuffle=True)"
   ]
  },
  {
   "cell_type": "code",
   "execution_count": 3,
   "id": "a0d03d27-5da8-4933-ace8-6516f3e77766",
   "metadata": {},
   "outputs": [],
   "source": [
    "sc = StandardScaler()\n",
    "\n",
    "X_train = sc.fit_transform(X_train)\n",
    "X_test = sc.transform(X_test)"
   ]
  },
  {
   "cell_type": "code",
   "execution_count": 5,
   "id": "94bfd274-8bb0-4e26-8062-40360588cec8",
   "metadata": {},
   "outputs": [],
   "source": [
    "classifier = KNeighborsClassifier(n_neighbors=5, metric='minkowski', p=2)\n",
    "classifier.fit(X_train, y_train);"
   ]
  },
  {
   "cell_type": "code",
   "execution_count": 6,
   "id": "8b764490-2484-40b5-b61b-63baa18328b4",
   "metadata": {},
   "outputs": [],
   "source": [
    "y_pred = classifier.predict(X_test)\n",
    "y_prob = classifier.predict_proba(X_test)[:, 1]"
   ]
  },
  {
   "cell_type": "code",
   "execution_count": 7,
   "id": "9cc47b1b-5fc3-47bf-9dcf-66a75c2762d0",
   "metadata": {},
   "outputs": [
    {
     "name": "stdout",
     "output_type": "stream",
     "text": [
      "[0 0 0 0 1 0 1 1]\n",
      "[0.4 0.2 0.  0.2 0.8 0.2 1.  0.8]\n"
     ]
    }
   ],
   "source": [
    "print(y_pred)\n",
    "print(y_prob)"
   ]
  },
  {
   "cell_type": "code",
   "execution_count": 15,
   "id": "9bfec9e5-8ea0-42b7-9982-4c0bb113d0f9",
   "metadata": {},
   "outputs": [
    {
     "data": {
      "image/png": "[encoded data removed]",
      "text/plain": [
       "<Figure size 432x288 with 1 Axes>"
      ]
     },
     "metadata": {
      "needs_background": "light"
     },
     "output_type": "display_data"
    }
   ],
   "source": [
    "c = confusion_matrix(y_test, y_pred)\n",
    "fig, ax = plt.subplots()\n",
    "ax.imshow(c);\n",
    "for i, (y_t_val, y_p_val) in enumerate(zip(y_test.flatten(), y_pred.flatten())):\n",
    "    ax.text(y_t_val, y_p_val, c[y_t_val, y_p_val], va='center', ha='center')"
   ]
  },
  {
   "cell_type": "code",
   "execution_count": 24,
   "id": "06e81632-de24-49cd-bcf5-0273f1885e7e",
   "metadata": {},
   "outputs": [
    {
     "data": {
      "text/plain": [
       "(array([0]), array([0.2]))"
      ]
     },
     "execution_count": 24,
     "metadata": {},
     "output_type": "execute_result"
    }
   ],
   "source": [
    "def predictWithProb(age, salary):\n",
    "    new_pred = classifier.predict(sc.transform(np.array([[age, salary]])))\n",
    "    new_prob = classifier.predict_proba(sc.transform(np.array([[age, salary]])))\n",
    "    return new_pred, new_prob[:,1]\n",
    "\n",
    "predictWithProb(20, 50000)"
   ]
  },
  {
   "cell_type": "code",
   "execution_count": null,
   "id": "d719ccc4-f1d7-4ba9-b04b-0b11f15c77b1",
   "metadata": {},
   "outputs": [],
   "source": []
  }
 ],
 "metadata": {
  "kernelspec": {
   "display_name": "Python 3.9 (tensorflow)",
   "language": "python",
   "name": "tensorflow"
  },
  "language_info": {
   "codemirror_mode": {
    "name": "ipython",
    "version": 3
   },
   "file_extension": ".py",
   "mimetype": "text/x-python",
   "name": "python",
   "nbconvert_exporter": "python",
   "pygments_lexer": "ipython3",
   "version": "3.9.9"
  }
 },
 "nbformat": 4,
 "nbformat_minor": 5
}
